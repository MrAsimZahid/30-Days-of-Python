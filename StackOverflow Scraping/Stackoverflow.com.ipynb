{
 "cells": [
  {
   "cell_type": "code",
   "execution_count": 2,
   "metadata": {},
   "outputs": [],
   "source": [
    "#pip install requests requests-html"
   ]
  },
  {
   "cell_type": "code",
   "execution_count": 3,
   "metadata": {},
   "outputs": [],
   "source": [
    "import requests\n",
    "from requests_html import HTML"
   ]
  },
  {
   "cell_type": "code",
   "execution_count": 4,
   "metadata": {},
   "outputs": [
    {
     "data": {
      "text/plain": [
       "'https://stackoverflow.com/questions/tagged/python?=Votes'"
      ]
     },
     "execution_count": 4,
     "metadata": {},
     "output_type": "execute_result"
    }
   ],
   "source": [
    "BASE_URL = 'https://stackoverflow.com/questions/tagged/'\n",
    "tag = \"python\"\n",
    "query_filter = \"Votes\"\n",
    "url = f\"{BASE_URL}{tag}?={query_filter}\"\n",
    "url"
   ]
  },
  {
   "cell_type": "code",
   "execution_count": 5,
   "metadata": {},
   "outputs": [],
   "source": [
    "r = requests.get(url)\n",
    "html_str = r.text"
   ]
  },
  {
   "cell_type": "code",
   "execution_count": 6,
   "metadata": {},
   "outputs": [],
   "source": [
    "html = HTML(html=html_str)"
   ]
  },
  {
   "cell_type": "code",
   "execution_count": 10,
   "metadata": {},
   "outputs": [
    {
     "data": {
      "text/plain": [
       "[<Element 'div' class=('question-summary',) id='question-summary-63625014'>,\n",
       " <Element 'div' class=('question-summary',) id='question-summary-63624995'>,\n",
       " <Element 'div' class=('question-summary',) id='question-summary-63624985'>,\n",
       " <Element 'div' class=('question-summary',) id='question-summary-63624976'>,\n",
       " <Element 'div' class=('question-summary',) id='question-summary-63624965'>,\n",
       " <Element 'div' class=('question-summary',) id='question-summary-63624937'>,\n",
       " <Element 'div' class=('question-summary',) id='question-summary-63624905'>,\n",
       " <Element 'div' class=('question-summary',) id='question-summary-63624894'>,\n",
       " <Element 'div' class=('question-summary',) id='question-summary-63624890'>,\n",
       " <Element 'div' class=('question-summary',) id='question-summary-63624889'>,\n",
       " <Element 'div' class=('question-summary',) id='question-summary-63624877'>,\n",
       " <Element 'div' class=('question-summary',) id='question-summary-63624858'>,\n",
       " <Element 'div' class=('question-summary',) id='question-summary-63624857'>,\n",
       " <Element 'div' class=('question-summary',) id='question-summary-63624835'>,\n",
       " <Element 'div' class=('question-summary',) id='question-summary-63624817'>,\n",
       " <Element 'div' class=('question-summary',) id='question-summary-63624808'>,\n",
       " <Element 'div' class=('question-summary',) id='question-summary-63624805'>,\n",
       " <Element 'div' class=('question-summary',) id='question-summary-63624782'>,\n",
       " <Element 'div' class=('question-summary',) id='question-summary-63624777'>,\n",
       " <Element 'div' class=('question-summary',) id='question-summary-63624751'>,\n",
       " <Element 'div' class=('question-summary',) id='question-summary-63624746'>,\n",
       " <Element 'div' class=('question-summary',) id='question-summary-63624744'>,\n",
       " <Element 'div' class=('question-summary',) id='question-summary-63624721'>,\n",
       " <Element 'div' class=('question-summary',) id='question-summary-63624712'>,\n",
       " <Element 'div' class=('question-summary',) id='question-summary-63624705'>,\n",
       " <Element 'div' class=('question-summary',) id='question-summary-63624704'>,\n",
       " <Element 'div' class=('question-summary',) id='question-summary-63624700'>,\n",
       " <Element 'div' class=('question-summary',) id='question-summary-63624699'>,\n",
       " <Element 'div' class=('question-summary',) id='question-summary-63624697'>,\n",
       " <Element 'div' class=('question-summary',) id='question-summary-63624679'>,\n",
       " <Element 'div' class=('question-summary',) id='question-summary-63624660'>,\n",
       " <Element 'div' class=('question-summary',) id='question-summary-63624651'>,\n",
       " <Element 'div' class=('question-summary',) id='question-summary-63624633'>,\n",
       " <Element 'div' class=('question-summary',) id='question-summary-63624624'>,\n",
       " <Element 'div' class=('question-summary',) id='question-summary-63624622'>,\n",
       " <Element 'div' class=('question-summary',) id='question-summary-63624621'>,\n",
       " <Element 'div' class=('question-summary',) id='question-summary-63624616'>,\n",
       " <Element 'div' class=('question-summary',) id='question-summary-63624574'>,\n",
       " <Element 'div' class=('question-summary',) id='question-summary-63624567'>,\n",
       " <Element 'div' class=('question-summary',) id='question-summary-63624565'>,\n",
       " <Element 'div' class=('question-summary',) id='question-summary-63624546'>,\n",
       " <Element 'div' class=('question-summary',) id='question-summary-63624533'>,\n",
       " <Element 'div' class=('question-summary',) id='question-summary-63624527'>,\n",
       " <Element 'div' class=('question-summary',) id='question-summary-63624526'>,\n",
       " <Element 'div' class=('question-summary',) id='question-summary-63624503'>,\n",
       " <Element 'div' class=('question-summary',) id='question-summary-63624475'>,\n",
       " <Element 'div' class=('question-summary',) id='question-summary-63624473'>,\n",
       " <Element 'div' class=('question-summary',) id='question-summary-63624448'>,\n",
       " <Element 'div' class=('question-summary',) id='question-summary-63624420'>,\n",
       " <Element 'div' class=('question-summary',) id='question-summary-63624400'>]"
      ]
     },
     "execution_count": 10,
     "metadata": {},
     "output_type": "execute_result"
    }
   ],
   "source": [
    "question_summaries = html.find(\".question-summary\")\n",
    "question_summaries"
   ]
  },
  {
   "cell_type": "code",
   "execution_count": 11,
   "metadata": {},
   "outputs": [
    {
     "data": {
      "text/plain": [
       "\"0\\nvotes\\n0answers\\n4 views\\nPsycopg2 Issue with Inserting Rows\\nI am getting the following error when trying to insert via python: TypeError: not all arguments converted during string formatting This is the first row I want to insert, as an example: (Timestamp('...\\npython postgresql psycopg2\\nasked 1 min ago\\nwadeformvp3\\n4755 bronze badges\""
      ]
     },
     "execution_count": 11,
     "metadata": {},
     "output_type": "execute_result"
    }
   ],
   "source": [
    "question_summaries[0].text"
   ]
  },
  {
   "cell_type": "code",
   "execution_count": 12,
   "metadata": {},
   "outputs": [],
   "source": [
    "columns = ['votes', 'vote_title', 'num_answer', 'views', 'question', 'short_desc', 'tags', 'date', 'user', 'user_details']"
   ]
  },
  {
   "cell_type": "code",
   "execution_count": 13,
   "metadata": {},
   "outputs": [
    {
     "data": {
      "text/plain": [
       "['0',\n",
       " 'votes',\n",
       " '0answers',\n",
       " '4 views',\n",
       " 'Psycopg2 Issue with Inserting Rows',\n",
       " \"I am getting the following error when trying to insert via python: TypeError: not all arguments converted during string formatting This is the first row I want to insert, as an example: (Timestamp('...\",\n",
       " 'python postgresql psycopg2',\n",
       " 'asked 1 min ago',\n",
       " 'wadeformvp3',\n",
       " '4755 bronze badges']"
      ]
     },
     "execution_count": 13,
     "metadata": {},
     "output_type": "execute_result"
    }
   ],
   "source": [
    "#this_row = list(question_summaries[0].text.split(\"\\n\"))\n",
    "#this_row"
   ]
  },
  {
   "cell_type": "code",
   "execution_count": 15,
   "metadata": {},
   "outputs": [
    {
     "data": {
      "text/plain": [
       "True"
      ]
     },
     "execution_count": 15,
     "metadata": {},
     "output_type": "execute_result"
    }
   ],
   "source": [
    "#len(this_row) == len(columns)"
   ]
  },
  {
   "cell_type": "code",
   "execution_count": 16,
   "metadata": {},
   "outputs": [
    {
     "data": {
      "text/plain": [
       "{'votes': '0',\n",
       " 'vote_title': 'votes',\n",
       " 'num_answer': '0answers',\n",
       " 'views': '4 views',\n",
       " 'question': 'Psycopg2 Issue with Inserting Rows',\n",
       " 'short_desc': \"I am getting the following error when trying to insert via python: TypeError: not all arguments converted during string formatting This is the first row I want to insert, as an example: (Timestamp('...\",\n",
       " 'tags': 'python postgresql psycopg2',\n",
       " 'date': 'asked 1 min ago',\n",
       " 'user': 'wadeformvp3',\n",
       " 'user_details': '4755 bronze badges'}"
      ]
     },
     "execution_count": 16,
     "metadata": {},
     "output_type": "execute_result"
    }
   ],
   "source": [
    "row_data = dict(zip(columns, this_row))\n",
    "row_data"
   ]
  },
  {
   "cell_type": "code",
   "execution_count": null,
   "metadata": {},
   "outputs": [],
   "source": []
  }
 ],
 "metadata": {
  "kernelspec": {
   "display_name": "Python 3",
   "language": "python",
   "name": "python3"
  },
  "language_info": {
   "codemirror_mode": {
    "name": "ipython",
    "version": 3
   },
   "file_extension": ".py",
   "mimetype": "text/x-python",
   "name": "python",
   "nbconvert_exporter": "python",
   "pygments_lexer": "ipython3",
   "version": "3.7.4"
  }
 },
 "nbformat": 4,
 "nbformat_minor": 2
}
